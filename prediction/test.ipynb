{
 "cells": [
  {
   "cell_type": "code",
   "execution_count": 1,
   "metadata": {},
   "outputs": [],
   "source": [
    "# import libraries\n",
    "import numpy as np \n",
    "import pandas as pd \n",
    "import matplotlib.pyplot as plt\n",
    "import pickle\n",
    "\n",
    "# import calculation libraries\n",
    "from scipy.integrate import odeint\n",
    "from scipy import integrate, optimize\n",
    "\n",
    "# time libraries\n",
    "import datetime\n",
    "from datetime import datetime\n",
    "\n",
    "def SEIR(y, t, beta, gamma1, gamma2, alpha, d1, r):\n",
    "    #unpackage paraments\n",
    "    S, E, I, R, total_death= y\n",
    "    #S, E, I, R = y\n",
    "\n",
    "    # calculte curve\n",
    "    dS_dt = -beta*S*I*r/N\n",
    "    dE_dt = beta*S*I*r/N - gamma1*E - alpha*E\n",
    "    dI_dt = alpha*E - gamma2*I - d1*I\n",
    "    dR_dt = gamma1*E + gamma2*I\n",
    "\n",
    "    # the data we want to find\n",
    "    total_death = d1*I\n",
    "    #total_confirmed = alpha*E\n",
    "\n",
    "    # return result\n",
    "    return([dS_dt, dE_dt, dI_dt, dR_dt, total_death])\n",
    "    \n",
    "def fit_odeint(t,beta,gamma1,gamma2,alpha,d1,r):\n",
    "    re = integrate.odeint(SEIR,[S0,E0,I0,R0,total_death],t,args=(beta,gamma1,gamma2,alpha,d1,r))\n",
    "    return re[:,-1]\n",
    "\n",
    "countries = ['Italy','Japan','China','UK','Spain','Iran','France','Germany']\n",
    "add_dates = ['4/15/20','4/16/20','4/17/20','4/18/20','4/19/20','4/20/20','4/21/20','4/22/20','4/23/20','4/24/20','4/25/20','4/26/20','4/27/20','4/28/20','4/29/20','4/30/20','5/1/20']\n",
    "\n",
    "re = {}\n",
    "result_data = {}\n",
    "actual_curve = {}\n",
    "fitted_curve = {}\n",
    "prediction_curve = {}"
   ]
  },
  {
   "cell_type": "code",
   "execution_count": 2,
   "metadata": {},
   "outputs": [],
   "source": [
    "# load data\n",
    "confirmed_data = pd.read_csv('../input/novel-corona-virus-2019-dataset/time_series_covid_19_confirmed.csv')\n",
    "deaths_data = pd.read_csv('../input/novel-corona-virus-2019-dataset/time_series_covid_19_deaths.csv')\n",
    "country_pop = pd.read_csv('../input/population-by-country-2020/population_by_country_2020.csv')\n",
    "\n",
    "country_pop = country_pop.rename(columns={'Country (or dependency)':'Country','Population (2020)':'Population'})\n",
    "deaths_data = deaths_data.rename(columns={'Province/State':'State','Country/Region':'Country'})\n",
    "confirmed_data = confirmed_data.rename(columns={'Province/State':'State','Country/Region':'Country'})\n",
    "\n",
    "dates = deaths_data.loc[:,'1/22/20':]\n",
    "dates = list(dates.columns.values)"
   ]
  },
  {
   "cell_type": "code",
   "execution_count": 3,
   "metadata": {},
   "outputs": [],
   "source": [
    "import pickle\n",
    "with open('../data/Confirmed_prediction','rb') as f:\n",
    "    prediction = pickle.load(f)"
   ]
  },
  {
   "cell_type": "code",
   "execution_count": 4,
   "metadata": {},
   "outputs": [
    {
     "output_type": "execute_result",
     "data": {
      "text/plain": "dict_keys(['France', 'Spain', 'UK', 'Japan', 'Germany', 'Italy', 'Iran', 'China'])"
     },
     "metadata": {},
     "execution_count": 4
    }
   ],
   "source": [
    "prediction['fitted_curve'].keys()"
   ]
  },
  {
   "cell_type": "code",
   "execution_count": 8,
   "metadata": {},
   "outputs": [
    {
     "output_type": "execute_result",
     "data": {
      "text/plain": "array([     1,      1,      2,      2,      5,      5,      5,      5,\n            5,      7,      8,      8,     11,     11,     11,     11,\n           11,     11,     11,     11,     12,     12,     13,     13,\n           13,     13,     13,     13,     13,     13,     15,     15,\n           15,     15,     15,     15,     16,     16,     24,     30,\n           53,     73,    104,    172,    217,    336,    450,    514,\n          708,   1105,   1557,   2147,   2857,   2918,   4307,   6096,\n         8873,  14094,  19403,  25725,  33634,  43663,  53736,  65778,\n        83836, 101657, 121465, 140909, 161831, 188172, 213362, 243762,\n       275582, 308848, 337065, 366660, 396221, 429047, 461432, 496530,\n       526391, 555304, 580223, 607213], dtype=int64)"
     },
     "metadata": {},
     "execution_count": 8
    }
   ],
   "source": [
    "with open('../data/US_comfirmed','rb') as f:\n",
    "    US_comfirmed = pickle.load(f)\n",
    "US_comfirmed[0][1]"
   ]
  },
  {
   "cell_type": "code",
   "execution_count": null,
   "metadata": {},
   "outputs": [],
   "source": []
  }
 ],
 "metadata": {
  "language_info": {
   "codemirror_mode": {
    "name": "ipython",
    "version": 3
   },
   "file_extension": ".py",
   "mimetype": "text/x-python",
   "name": "python",
   "nbconvert_exporter": "python",
   "pygments_lexer": "ipython3",
   "version": "3.7.7-final"
  },
  "orig_nbformat": 2,
  "kernelspec": {
   "name": "python37764bit4d397fd25c924b158258ab67817c9e3e",
   "display_name": "Python 3.7.7 64-bit"
  }
 },
 "nbformat": 4,
 "nbformat_minor": 2
}